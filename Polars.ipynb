{
 "cells": [
  {
   "cell_type": "code",
   "execution_count": 1,
   "metadata": {},
   "outputs": [
    {
     "name": "stdout",
     "output_type": "stream",
     "text": [
      "Collecting polars\n",
      "  Downloading polars-1.32.0-cp39-abi3-manylinux_2_17_x86_64.manylinux2014_x86_64.whl.metadata (15 kB)\n",
      "Downloading polars-1.32.0-cp39-abi3-manylinux_2_17_x86_64.manylinux2014_x86_64.whl (38.0 MB)\n",
      "\u001b[2K   \u001b[90m━━━━━━━━━━━━━━━━━━━━━━━━━━━━━━━━━━━━━━━━\u001b[0m \u001b[32m38.0/38.0 MB\u001b[0m \u001b[31m144.9 MB/s\u001b[0m eta \u001b[36m0:00:00\u001b[0m00:01\u001b[0m\n",
      "Installing collected packages: polars\n",
      "Successfully installed polars-1.32.0\n"
     ]
    }
   ],
   "source": [
    "!pip install polars"
   ]
  },
  {
   "cell_type": "code",
   "execution_count": 2,
   "metadata": {},
   "outputs": [],
   "source": [
    "import polars as pl"
   ]
  },
  {
   "cell_type": "code",
   "execution_count": null,
   "metadata": {},
   "outputs": [
    {
     "name": "stdout",
     "output_type": "stream",
     "text": [
      "(221352, 9)\n",
      "['date', 'temperature_2m', 'apparent_temperature', 'precipitation', 'wind_speed_10m', 'snow_depth', 'sunshine_duration', 'direct_radiation', 'wind_gusts_10m']\n"
     ]
    }
   ],
   "source": [
    "\n",
    "# Read the weather data CSV into a Polars DataFrame\n",
    "df = pl.read_csv(\"hourly-weather-data.csv\")\n",
    "print(df.shape)        \n",
    "print(df.columns)     "
   ]
  },
  {
   "cell_type": "code",
   "execution_count": 4,
   "metadata": {},
   "outputs": [
    {
     "name": "stdout",
     "output_type": "stream",
     "text": [
      "shape: (5, 9)\n",
      "┌───────────┬───────────┬───────────┬───────────┬───┬───────────┬───────────┬───────────┬──────────┐\n",
      "│ date      ┆ temperatu ┆ apparent_ ┆ precipita ┆ … ┆ snow_dept ┆ sunshine_ ┆ direct_ra ┆ wind_gus │\n",
      "│ ---       ┆ re_2m     ┆ temperatu ┆ tion      ┆   ┆ h         ┆ duration  ┆ diation   ┆ ts_10m   │\n",
      "│ str       ┆ ---       ┆ re        ┆ ---       ┆   ┆ ---       ┆ ---       ┆ ---       ┆ ---      │\n",
      "│           ┆ f64       ┆ ---       ┆ f64       ┆   ┆ f64       ┆ f64       ┆ f64       ┆ f64      │\n",
      "│           ┆           ┆ f64       ┆           ┆   ┆           ┆           ┆           ┆          │\n",
      "╞═══════════╪═══════════╪═══════════╪═══════════╪═══╪═══════════╪═══════════╪═══════════╪══════════╡\n",
      "│ 2000-02-0 ┆ -8.6315   ┆ -15.03086 ┆ 0.0       ┆ … ┆ 0.06      ┆ 0.0       ┆ 0.0       ┆ 39.96    │\n",
      "│ 2 04:00:0 ┆           ┆           ┆           ┆   ┆           ┆           ┆           ┆          │\n",
      "│ 0+00:00   ┆           ┆           ┆           ┆   ┆           ┆           ┆           ┆          │\n",
      "│ 2000-02-0 ┆ -9.1315   ┆ -15.57132 ┆ 0.0       ┆ … ┆ 0.06      ┆ 0.0       ┆ 0.0       ┆ 39.23999 │\n",
      "│ 2 05:00:0 ┆           ┆ 1         ┆           ┆   ┆           ┆           ┆           ┆ 8        │\n",
      "│ 0+00:00   ┆           ┆           ┆           ┆   ┆           ┆           ┆           ┆          │\n",
      "│ 2000-02-0 ┆ -9.8315   ┆ -16.41712 ┆ 0.0       ┆ … ┆ 0.06      ┆ 0.0       ┆ 0.0       ┆ 39.6     │\n",
      "│ 2 06:00:0 ┆           ┆           ┆           ┆   ┆           ┆           ┆           ┆          │\n",
      "│ 0+00:00   ┆           ┆           ┆           ┆   ┆           ┆           ┆           ┆          │\n",
      "│ 2000-02-0 ┆ -10.4815  ┆ -17.16505 ┆ 0.0       ┆ … ┆ 0.06      ┆ 0.0       ┆ 0.0       ┆ 40.32    │\n",
      "│ 2 07:00:0 ┆           ┆ 8         ┆           ┆   ┆           ┆           ┆           ┆          │\n",
      "│ 0+00:00   ┆           ┆           ┆           ┆   ┆           ┆           ┆           ┆          │\n",
      "│ 2000-02-0 ┆ -11.2315  ┆ -17.91882 ┆ 0.0       ┆ … ┆ 0.06      ┆ 0.0       ┆ 0.0       ┆ 39.6     │\n",
      "│ 2 08:00:0 ┆           ┆ 7         ┆           ┆   ┆           ┆           ┆           ┆          │\n",
      "│ 0+00:00   ┆           ┆           ┆           ┆   ┆           ┆           ┆           ┆          │\n",
      "└───────────┴───────────┴───────────┴───────────┴───┴───────────┴───────────┴───────────┴──────────┘\n"
     ]
    }
   ],
   "source": [
    "# Display the first 5 rows of the dataset\n",
    "print(df.head(5))"
   ]
  },
  {
   "cell_type": "code",
   "execution_count": 5,
   "metadata": {},
   "outputs": [
    {
     "name": "stdout",
     "output_type": "stream",
     "text": [
      "❓ Null values per column:\n",
      "shape: (1, 9)\n",
      "┌──────┬────────────┬────────────┬────────────┬───┬────────────┬───────────┬───────────┬───────────┐\n",
      "│ date ┆ temperatur ┆ apparent_t ┆ precipitat ┆ … ┆ snow_depth ┆ sunshine_ ┆ direct_ra ┆ wind_gust │\n",
      "│ ---  ┆ e_2m       ┆ emperature ┆ ion        ┆   ┆ ---        ┆ duration  ┆ diation   ┆ s_10m     │\n",
      "│ u32  ┆ ---        ┆ ---        ┆ ---        ┆   ┆ u32        ┆ ---       ┆ ---       ┆ ---       │\n",
      "│      ┆ u32        ┆ u32        ┆ u32        ┆   ┆            ┆ u32       ┆ u32       ┆ u32       │\n",
      "╞══════╪════════════╪════════════╪════════════╪═══╪════════════╪═══════════╪═══════════╪═══════════╡\n",
      "│ 0    ┆ 0          ┆ 0          ┆ 0          ┆ … ┆ 76         ┆ 0         ┆ 0         ┆ 0         │\n",
      "└──────┴────────────┴────────────┴────────────┴───┴────────────┴───────────┴───────────┴───────────┘\n"
     ]
    }
   ],
   "source": [
    "# Check null counts\n",
    "print(\"❓ Null values per column:\")\n",
    "print(df.null_count())"
   ]
  },
  {
   "cell_type": "code",
   "execution_count": null,
   "metadata": {},
   "outputs": [],
   "source": [
    "\n",
    "df_clean = df.drop_nulls()\n"
   ]
  },
  {
   "cell_type": "code",
   "execution_count": 7,
   "metadata": {},
   "outputs": [],
   "source": [
    "q1 = df.select(pl.col(\"wind_gusts_10m\").quantile(0.25)).item()\n",
    "q3 = df.select(pl.col(\"wind_gusts_10m\").quantile(0.75)).item()\n",
    "iqr = q3 - q1\n",
    "\n",
    "lower_bound = q1 - 1.5 * iqr\n",
    "upper_bound = q3 + 1.5 * iqr\n"
   ]
  },
  {
   "cell_type": "code",
   "execution_count": 8,
   "metadata": {},
   "outputs": [
    {
     "name": "stdout",
     "output_type": "stream",
     "text": [
      "Before Cleaning:\n",
      "shape: (9, 2)\n",
      "┌────────────┬────────────────┐\n",
      "│ statistic  ┆ wind_gusts_10m │\n",
      "│ ---        ┆ ---            │\n",
      "│ str        ┆ f64            │\n",
      "╞════════════╪════════════════╡\n",
      "│ count      ┆ 221352.0       │\n",
      "│ null_count ┆ 0.0            │\n",
      "│ mean       ┆ 27.586993      │\n",
      "│ std        ┆ 12.689802      │\n",
      "│ min        ┆ 1.08           │\n",
      "│ 25%        ┆ 18.0           │\n",
      "│ 50%        ┆ 25.919998      │\n",
      "│ 75%        ┆ 35.28          │\n",
      "│ max        ┆ 119.88         │\n",
      "└────────────┴────────────────┘\n",
      "\n",
      "After Cleaning:\n",
      "shape: (9, 2)\n",
      "┌────────────┬────────────────┐\n",
      "│ statistic  ┆ wind_gusts_10m │\n",
      "│ ---        ┆ ---            │\n",
      "│ str        ┆ f64            │\n",
      "╞════════════╪════════════════╡\n",
      "│ count      ┆ 218320.0       │\n",
      "│ null_count ┆ 0.0            │\n",
      "│ mean       ┆ 27.02248       │\n",
      "│ std        ┆ 11.809349      │\n",
      "│ min        ┆ 1.08           │\n",
      "│ 25%        ┆ 18.0           │\n",
      "│ 50%        ┆ 25.56          │\n",
      "│ 75%        ┆ 34.92          │\n",
      "│ max        ┆ 61.199997      │\n",
      "└────────────┴────────────────┘\n"
     ]
    }
   ],
   "source": [
    "df_iqr_filtered = df.filter(\n",
    "    (pl.col(\"wind_gusts_10m\") >= lower_bound) & \n",
    "    (pl.col(\"wind_gusts_10m\") <= upper_bound)\n",
    ")\n",
    "\n",
    "print(\"Before Cleaning:\")\n",
    "print(df.select(\"wind_gusts_10m\").describe())\n",
    "\n",
    "print(\"\\nAfter Cleaning:\")\n",
    "print(df_iqr_filtered.select(\"wind_gusts_10m\").describe())\n"
   ]
  },
  {
   "cell_type": "code",
   "execution_count": 9,
   "metadata": {},
   "outputs": [
    {
     "name": "stdout",
     "output_type": "stream",
     "text": [
      "Number of freezing hours: 2400\n",
      "shape: (10, 4)\n",
      "┌───────────────────────────┬────────────────┬──────────────────────┬────────────────┐\n",
      "│ date                      ┆ temperature_2m ┆ apparent_temperature ┆ wind_gusts_10m │\n",
      "│ ---                       ┆ ---            ┆ ---                  ┆ ---            │\n",
      "│ str                       ┆ f64            ┆ f64                  ┆ f64            │\n",
      "╞═══════════════════════════╪════════════════╪══════════════════════╪════════════════╡\n",
      "│ 2000-02-08 13:00:00+00:00 ┆ -17.0315       ┆ -22.089499           ┆ 14.04          │\n",
      "│ 2000-02-12 09:00:00+00:00 ┆ -15.2315       ┆ -20.287348           ┆ 15.84          │\n",
      "│ 2000-02-12 10:00:00+00:00 ┆ -15.8315       ┆ -20.99727            ┆ 15.48          │\n",
      "│ 2000-02-12 11:00:00+00:00 ┆ -16.381498     ┆ -21.683455           ┆ 15.119999      │\n",
      "│ 2000-02-12 12:00:00+00:00 ┆ -16.981499     ┆ -22.349497           ┆ 15.84          │\n",
      "│ 2000-02-12 13:00:00+00:00 ┆ -17.5815       ┆ -22.61591            ┆ 15.48          │\n",
      "│ 2000-02-12 14:00:00+00:00 ┆ -17.4315       ┆ -22.07077            ┆ 14.759999      │\n",
      "│ 2000-02-17 12:00:00+00:00 ┆ -15.3815       ┆ -20.942163           ┆ 22.319998      │\n",
      "│ 2000-02-17 13:00:00+00:00 ┆ -15.8315       ┆ -21.308857           ┆ 21.24          │\n",
      "│ 2000-02-17 14:00:00+00:00 ┆ -15.0815       ┆ -20.193558           ┆ 19.44          │\n",
      "└───────────────────────────┴────────────────┴──────────────────────┴────────────────┘\n"
     ]
    }
   ],
   "source": [
    "# Filter for rows where the temperature is below -15 °C\n",
    "cold_df = df.filter(pl.col(\"temperature_2m\") < -15)\n",
    "print(f\"Number of freezing hours: {cold_df.height}\")\n",
    "print(cold_df.select([\"date\", \"temperature_2m\", \"apparent_temperature\", \"wind_gusts_10m\" ]).head(10))"
   ]
  },
  {
   "cell_type": "code",
   "execution_count": 10,
   "metadata": {},
   "outputs": [
    {
     "name": "stdout",
     "output_type": "stream",
     "text": [
      "shape: (5, 4)\n",
      "┌───────────────────────────┬────────────────┬───────────────┬────────────────┐\n",
      "│ date                      ┆ temperature_2m ┆ precipitation ┆ wind_gusts_10m │\n",
      "│ ---                       ┆ ---            ┆ ---           ┆ ---            │\n",
      "│ str                       ┆ f64            ┆ f64           ┆ f64            │\n",
      "╞═══════════════════════════╪════════════════╪═══════════════╪════════════════╡\n",
      "│ 2000-02-02 04:00:00+00:00 ┆ -8.6315        ┆ 0.0           ┆ 39.96          │\n",
      "│ 2000-02-02 05:00:00+00:00 ┆ -9.1315        ┆ 0.0           ┆ 39.239998      │\n",
      "│ 2000-02-02 06:00:00+00:00 ┆ -9.8315        ┆ 0.0           ┆ 39.6           │\n",
      "│ 2000-02-02 07:00:00+00:00 ┆ -10.4815       ┆ 0.0           ┆ 40.32          │\n",
      "│ 2000-02-02 08:00:00+00:00 ┆ -11.2315       ┆ 0.0           ┆ 39.6           │\n",
      "└───────────────────────────┴────────────────┴───────────────┴────────────────┘\n"
     ]
    }
   ],
   "source": [
    "# Select a subset of columns (e.g., Date, Temperature, Humidity, Wind Speed)\n",
    "subset_df = df.select([\n",
    "    \"date\", \n",
    "    \"temperature_2m\", \n",
    "    \"precipitation\", \n",
    "    \"wind_gusts_10m\"\n",
    "])\n",
    "print(subset_df.head(5))\n"
   ]
  },
  {
   "cell_type": "code",
   "execution_count": 11,
   "metadata": {},
   "outputs": [
    {
     "name": "stdout",
     "output_type": "stream",
     "text": [
      "shape: (180_392, 4)\n",
      "┌───────────────────────────┬────────────────┬──────────────────────┬─────────────────┐\n",
      "│ date                      ┆ temperature_2m ┆ apparent_temperature ┆ feels_like_diff │\n",
      "│ ---                       ┆ ---            ┆ ---                  ┆ ---             │\n",
      "│ str                       ┆ f64            ┆ f64                  ┆ f64             │\n",
      "╞═══════════════════════════╪════════════════╪══════════════════════╪═════════════════╡\n",
      "│ 2022-12-24 01:00:00+00:00 ┆ -13.564        ┆ -24.630537           ┆ 11.066537       │\n",
      "│ 2022-12-24 02:00:00+00:00 ┆ -13.664001     ┆ -24.58174            ┆ 10.917739       │\n",
      "│ 2022-12-24 06:00:00+00:00 ┆ -14.014        ┆ -24.723354           ┆ 10.709354       │\n",
      "│ 2018-04-04 20:00:00+00:00 ┆ 0.086          ┆ -10.37068            ┆ 10.45668        │\n",
      "│ 2022-12-24 00:00:00+00:00 ┆ -12.914001     ┆ -23.365795           ┆ 10.451794       │\n",
      "│ …                         ┆ …              ┆ …                    ┆ …               │\n",
      "│ 2018-07-03 23:00:00+00:00 ┆ 28.086         ┆ 28.085629            ┆ 0.000371        │\n",
      "│ 2010-05-29 10:00:00+00:00 ┆ 16.618502      ┆ 16.618214            ┆ 0.000288        │\n",
      "│ 2017-10-09 22:00:00+00:00 ┆ 18.636         ┆ 18.635712            ┆ 0.000288        │\n",
      "│ 2016-10-20 11:00:00+00:00 ┆ 14.0685        ┆ 14.068367            ┆ 0.000133        │\n",
      "│ 2003-07-09 05:00:00+00:00 ┆ 19.618502      ┆ 19.618416            ┆ 0.000086        │\n",
      "└───────────────────────────┴────────────────┴──────────────────────┴─────────────────┘\n"
     ]
    }
   ],
   "source": [
    "result = (\n",
    "    df\n",
    "    .with_columns((pl.col(\"temperature_2m\") - pl.col(\"apparent_temperature\")).alias(\"feels_like_diff\"))\n",
    "    .filter(pl.col(\"feels_like_diff\") > 0)\n",
    "    .sort(\"feels_like_diff\", descending=True)\n",
    "    .select([\"date\", \"temperature_2m\", \"apparent_temperature\", \"feels_like_diff\"])\n",
    ")\n",
    "print(result)"
   ]
  },
  {
   "cell_type": "code",
   "execution_count": 12,
   "metadata": {},
   "outputs": [
    {
     "name": "stdout",
     "output_type": "stream",
     "text": [
      "Schema({'date': String, 'temperature_2m': Float64, 'apparent_temperature': Float64, 'precipitation': Float64, 'wind_speed_10m': Float64, 'snow_depth': Float64, 'sunshine_duration': Float64, 'direct_radiation': Float64, 'wind_gusts_10m': Float64})\n"
     ]
    }
   ],
   "source": [
    "print(df.schema)"
   ]
  },
  {
   "cell_type": "code",
   "execution_count": 13,
   "metadata": {},
   "outputs": [
    {
     "name": "stdout",
     "output_type": "stream",
     "text": [
      "shape: (9_224, 4)\n",
      "┌────────────┬───────────┬──────────────┬────────────────┐\n",
      "│ day        ┆ avg_temp  ┆ total_precip ┆ total_sunshine │\n",
      "│ ---        ┆ ---       ┆ ---          ┆ ---            │\n",
      "│ date       ┆ f64       ┆ f64          ┆ f64            │\n",
      "╞════════════╪═══════════╪══════════════╪════════════════╡\n",
      "│ 2000-02-02 ┆ -10.1015  ┆ 0.0          ┆ 32060.7265     │\n",
      "│ 2000-02-03 ┆ -4.896083 ┆ 3.2          ┆ 0.0            │\n",
      "│ 2000-02-04 ┆ -6.266917 ┆ 1.3          ┆ 30920.767102   │\n",
      "│ 2000-02-05 ┆ -8.094    ┆ 0.0          ┆ 25480.016775   │\n",
      "│ 2000-02-06 ┆ -5.883583 ┆ 0.0          ┆ 32439.120612   │\n",
      "│ …          ┆ …         ┆ …            ┆ …              │\n",
      "│ 2025-04-30 ┆ 6.396417  ┆ 0.0          ┆ 46801.9665     │\n",
      "│ 2025-05-01 ┆ 7.00475   ┆ 9.9          ┆ 8317.533717    │\n",
      "│ 2025-05-02 ┆ 12.9235   ┆ 1.9          ┆ 32010.04534    │\n",
      "│ 2025-05-03 ┆ 8.71725   ┆ 1.3          ┆ 8251.1989      │\n",
      "│ 2025-05-04 ┆ 7.811     ┆ 0.0          ┆ 0.0            │\n",
      "└────────────┴───────────┴──────────────┴────────────────┘\n"
     ]
    }
   ],
   "source": [
    "# Step 1: Convert String to Datetime\n",
    "df = df.with_columns(\n",
    "    pl.col(\"date\").str.strptime(pl.Datetime, format=\"%Y-%m-%d %H:%M:%S%z\", strict=False)\n",
    ")\n",
    "# Step 2: Daily grouping\n",
    "daily_summary = (\n",
    "    df\n",
    "    .with_columns(pl.col(\"date\").dt.date().alias(\"day\"))\n",
    "    .group_by(\"day\")\n",
    "    .agg([\n",
    "        pl.col(\"temperature_2m\").mean().alias(\"avg_temp\"),\n",
    "        pl.col(\"precipitation\").sum().alias(\"total_precip\"),\n",
    "        pl.col(\"sunshine_duration\").sum().alias(\"total_sunshine\")\n",
    "    ])\n",
    "    .sort(\"day\")\n",
    ")\n",
    "\n",
    "print(daily_summary)\n"
   ]
  },
  {
   "cell_type": "code",
   "execution_count": 14,
   "metadata": {},
   "outputs": [
    {
     "name": "stdout",
     "output_type": "stream",
     "text": [
      "shape: (5, 10)\n",
      "┌───────────┬───────────┬───────────┬───────────┬───┬───────────┬───────────┬───────────┬──────────┐\n",
      "│ date      ┆ temperatu ┆ apparent_ ┆ precipita ┆ … ┆ sunshine_ ┆ direct_ra ┆ wind_gust ┆ rolling_ │\n",
      "│ ---       ┆ re_2m     ┆ temperatu ┆ tion      ┆   ┆ duration  ┆ diation   ┆ s_10m     ┆ avg_temp │\n",
      "│ datetime[ ┆ ---       ┆ re        ┆ ---       ┆   ┆ ---       ┆ ---       ┆ ---       ┆ ---      │\n",
      "│ μs, UTC]  ┆ f64       ┆ ---       ┆ f64       ┆   ┆ f64       ┆ f64       ┆ f64       ┆ f64      │\n",
      "│           ┆           ┆ f64       ┆           ┆   ┆           ┆           ┆           ┆          │\n",
      "╞═══════════╪═══════════╪═══════════╪═══════════╪═══╪═══════════╪═══════════╪═══════════╪══════════╡\n",
      "│ 2000-02-0 ┆ -8.6315   ┆ -15.03086 ┆ 0.0       ┆ … ┆ 0.0       ┆ 0.0       ┆ 39.96     ┆ null     │\n",
      "│ 2         ┆           ┆           ┆           ┆   ┆           ┆           ┆           ┆          │\n",
      "│ 04:00:00  ┆           ┆           ┆           ┆   ┆           ┆           ┆           ┆          │\n",
      "│ UTC       ┆           ┆           ┆           ┆   ┆           ┆           ┆           ┆          │\n",
      "│ 2000-02-0 ┆ -9.1315   ┆ -15.57132 ┆ 0.0       ┆ … ┆ 0.0       ┆ 0.0       ┆ 39.239998 ┆ null     │\n",
      "│ 2         ┆           ┆ 1         ┆           ┆   ┆           ┆           ┆           ┆          │\n",
      "│ 05:00:00  ┆           ┆           ┆           ┆   ┆           ┆           ┆           ┆          │\n",
      "│ UTC       ┆           ┆           ┆           ┆   ┆           ┆           ┆           ┆          │\n",
      "│ 2000-02-0 ┆ -9.8315   ┆ -16.41712 ┆ 0.0       ┆ … ┆ 0.0       ┆ 0.0       ┆ 39.6      ┆ -9.19816 │\n",
      "│ 2         ┆           ┆           ┆           ┆   ┆           ┆           ┆           ┆ 7        │\n",
      "│ 06:00:00  ┆           ┆           ┆           ┆   ┆           ┆           ┆           ┆          │\n",
      "│ UTC       ┆           ┆           ┆           ┆   ┆           ┆           ┆           ┆          │\n",
      "│ 2000-02-0 ┆ -10.4815  ┆ -17.16505 ┆ 0.0       ┆ … ┆ 0.0       ┆ 0.0       ┆ 40.32     ┆ -9.81483 │\n",
      "│ 2         ┆           ┆ 8         ┆           ┆   ┆           ┆           ┆           ┆ 3        │\n",
      "│ 07:00:00  ┆           ┆           ┆           ┆   ┆           ┆           ┆           ┆          │\n",
      "│ UTC       ┆           ┆           ┆           ┆   ┆           ┆           ┆           ┆          │\n",
      "│ 2000-02-0 ┆ -11.2315  ┆ -17.91882 ┆ 0.0       ┆ … ┆ 0.0       ┆ 0.0       ┆ 39.6      ┆ -10.5148 │\n",
      "│ 2         ┆           ┆ 7         ┆           ┆   ┆           ┆           ┆           ┆ 33       │\n",
      "│ 08:00:00  ┆           ┆           ┆           ┆   ┆           ┆           ┆           ┆          │\n",
      "│ UTC       ┆           ┆           ┆           ┆   ┆           ┆           ┆           ┆          │\n",
      "└───────────┴───────────┴───────────┴───────────┴───┴───────────┴───────────┴───────────┴──────────┘\n"
     ]
    }
   ],
   "source": [
    "df_rolling_avg = df.with_columns(\n",
    "    pl.col(\"temperature_2m\")\n",
    "    .rolling_mean(window_size=3)\n",
    "    .alias(\"rolling_avg_temp\")\n",
    ")\n",
    "print(df_rolling_avg.head(5))"
   ]
  },
  {
   "cell_type": "code",
   "execution_count": 15,
   "metadata": {},
   "outputs": [
    {
     "name": "stdout",
     "output_type": "stream",
     "text": [
      "shape: (5, 10)\n",
      "┌───────────┬───────────┬───────────┬───────────┬───┬───────────┬───────────┬───────────┬──────────┐\n",
      "│ date      ┆ temperatu ┆ apparent_ ┆ precipita ┆ … ┆ sunshine_ ┆ direct_ra ┆ wind_gust ┆ wind_gus │\n",
      "│ ---       ┆ re_2m     ┆ temperatu ┆ tion      ┆   ┆ duration  ┆ diation   ┆ s_10m     ┆ ts_pct_c │\n",
      "│ datetime[ ┆ ---       ┆ re        ┆ ---       ┆   ┆ ---       ┆ ---       ┆ ---       ┆ hange    │\n",
      "│ μs, UTC]  ┆ f64       ┆ ---       ┆ f64       ┆   ┆ f64       ┆ f64       ┆ f64       ┆ ---      │\n",
      "│           ┆           ┆ f64       ┆           ┆   ┆           ┆           ┆           ┆ f64      │\n",
      "╞═══════════╪═══════════╪═══════════╪═══════════╪═══╪═══════════╪═══════════╪═══════════╪══════════╡\n",
      "│ 2000-02-0 ┆ -8.6315   ┆ -15.03086 ┆ 0.0       ┆ … ┆ 0.0       ┆ 0.0       ┆ 39.96     ┆ null     │\n",
      "│ 2         ┆           ┆           ┆           ┆   ┆           ┆           ┆           ┆          │\n",
      "│ 04:00:00  ┆           ┆           ┆           ┆   ┆           ┆           ┆           ┆          │\n",
      "│ UTC       ┆           ┆           ┆           ┆   ┆           ┆           ┆           ┆          │\n",
      "│ 2000-02-0 ┆ -9.1315   ┆ -15.57132 ┆ 0.0       ┆ … ┆ 0.0       ┆ 0.0       ┆ 39.239998 ┆ -0.01801 │\n",
      "│ 2         ┆           ┆ 1         ┆           ┆   ┆           ┆           ┆           ┆ 8        │\n",
      "│ 05:00:00  ┆           ┆           ┆           ┆   ┆           ┆           ┆           ┆          │\n",
      "│ UTC       ┆           ┆           ┆           ┆   ┆           ┆           ┆           ┆          │\n",
      "│ 2000-02-0 ┆ -9.8315   ┆ -16.41712 ┆ 0.0       ┆ … ┆ 0.0       ┆ 0.0       ┆ 39.6      ┆ 0.009174 │\n",
      "│ 2         ┆           ┆           ┆           ┆   ┆           ┆           ┆           ┆          │\n",
      "│ 06:00:00  ┆           ┆           ┆           ┆   ┆           ┆           ┆           ┆          │\n",
      "│ UTC       ┆           ┆           ┆           ┆   ┆           ┆           ┆           ┆          │\n",
      "│ 2000-02-0 ┆ -10.4815  ┆ -17.16505 ┆ 0.0       ┆ … ┆ 0.0       ┆ 0.0       ┆ 40.32     ┆ 0.018182 │\n",
      "│ 2         ┆           ┆ 8         ┆           ┆   ┆           ┆           ┆           ┆          │\n",
      "│ 07:00:00  ┆           ┆           ┆           ┆   ┆           ┆           ┆           ┆          │\n",
      "│ UTC       ┆           ┆           ┆           ┆   ┆           ┆           ┆           ┆          │\n",
      "│ 2000-02-0 ┆ -11.2315  ┆ -17.91882 ┆ 0.0       ┆ … ┆ 0.0       ┆ 0.0       ┆ 39.6      ┆ -0.01785 │\n",
      "│ 2         ┆           ┆ 7         ┆           ┆   ┆           ┆           ┆           ┆ 7        │\n",
      "│ 08:00:00  ┆           ┆           ┆           ┆   ┆           ┆           ┆           ┆          │\n",
      "│ UTC       ┆           ┆           ┆           ┆   ┆           ┆           ┆           ┆          │\n",
      "└───────────┴───────────┴───────────┴───────────┴───┴───────────┴───────────┴───────────┴──────────┘\n"
     ]
    }
   ],
   "source": [
    "df_percent_change = df.with_columns(\n",
    "    (pl.col(\"wind_gusts_10m\") / pl.col(\"wind_gusts_10m\").shift(1) - 1).alias(\"wind_gusts_pct_change\")\n",
    ")\n",
    "print(df_percent_change.head(5))"
   ]
  },
  {
   "cell_type": "code",
   "execution_count": 16,
   "metadata": {},
   "outputs": [
    {
     "name": "stdout",
     "output_type": "stream",
     "text": [
      "shape: (5, 10)\n",
      "┌───────────┬───────────┬───────────┬───────────┬───┬───────────┬───────────┬───────────┬──────────┐\n",
      "│ date      ┆ temperatu ┆ apparent_ ┆ precipita ┆ … ┆ sunshine_ ┆ direct_ra ┆ wind_gust ┆ radiatio │\n",
      "│ ---       ┆ re_2m     ┆ temperatu ┆ tion      ┆   ┆ duration  ┆ diation   ┆ s_10m     ┆ n_rank   │\n",
      "│ datetime[ ┆ ---       ┆ re        ┆ ---       ┆   ┆ ---       ┆ ---       ┆ ---       ┆ ---      │\n",
      "│ μs, UTC]  ┆ f64       ┆ ---       ┆ f64       ┆   ┆ f64       ┆ f64       ┆ f64       ┆ u32      │\n",
      "│           ┆           ┆ f64       ┆           ┆   ┆           ┆           ┆           ┆          │\n",
      "╞═══════════╪═══════════╪═══════════╪═══════════╪═══╪═══════════╪═══════════╪═══════════╪══════════╡\n",
      "│ 2006-06-1 ┆ 14.8185   ┆ 11.382072 ┆ 0.0       ┆ … ┆ 3600.0    ┆ 909.0     ┆ 51.839996 ┆ 888      │\n",
      "│ 0         ┆           ┆           ┆           ┆   ┆           ┆           ┆           ┆          │\n",
      "│ 18:00:00  ┆           ┆           ┆           ┆   ┆           ┆           ┆           ┆          │\n",
      "│ UTC       ┆           ┆           ┆           ┆   ┆           ┆           ┆           ┆          │\n",
      "│ 2006-06-1 ┆ 14.3685   ┆ 10.793603 ┆ 0.0       ┆ … ┆ 3600.0    ┆ 895.0     ┆ 51.12     ┆ 887      │\n",
      "│ 0         ┆           ┆           ┆           ┆   ┆           ┆           ┆           ┆          │\n",
      "│ 17:00:00  ┆           ┆           ┆           ┆   ┆           ┆           ┆           ┆          │\n",
      "│ UTC       ┆           ┆           ┆           ┆   ┆           ┆           ┆           ┆          │\n",
      "│ 2015-06-0 ┆ 15.718499 ┆ 14.970507 ┆ 0.0       ┆ … ┆ 3600.0    ┆ 895.0     ┆ 37.8      ┆ 887      │\n",
      "│ 7         ┆           ┆           ┆           ┆   ┆           ┆           ┆           ┆          │\n",
      "│ 18:00:00  ┆           ┆           ┆           ┆   ┆           ┆           ┆           ┆          │\n",
      "│ UTC       ┆           ┆           ┆           ┆   ┆           ┆           ┆           ┆          │\n",
      "│ 2014-06-1 ┆ 19.8185   ┆ 21.740269 ┆ 0.0       ┆ … ┆ 3600.0    ┆ 890.0     ┆ 26.64     ┆ 886      │\n",
      "│ 9         ┆           ┆           ┆           ┆   ┆           ┆           ┆           ┆          │\n",
      "│ 18:00:00  ┆           ┆           ┆           ┆   ┆           ┆           ┆           ┆          │\n",
      "│ UTC       ┆           ┆           ┆           ┆   ┆           ┆           ┆           ┆          │\n",
      "│ 2009-05-1 ┆ 10.8685   ┆ 6.1356153 ┆ 0.0       ┆ … ┆ 3600.0    ┆ 889.0     ┆ 53.28     ┆ 885      │\n",
      "│ 7         ┆           ┆           ┆           ┆   ┆           ┆           ┆           ┆          │\n",
      "│ 18:00:00  ┆           ┆           ┆           ┆   ┆           ┆           ┆           ┆          │\n",
      "│ UTC       ┆           ┆           ┆           ┆   ┆           ┆           ┆           ┆          │\n",
      "└───────────┴───────────┴───────────┴───────────┴───┴───────────┴───────────┴───────────┴──────────┘\n"
     ]
    }
   ],
   "source": [
    "df_ranking = df.sort(\"direct_radiation\", descending=True).with_columns(\n",
    "    pl.col(\"direct_radiation\").rank(method=\"dense\").alias(\"radiation_rank\")\n",
    ")\n",
    "\n",
    "print(df_ranking.head(5))"
   ]
  },
  {
   "cell_type": "code",
   "execution_count": 17,
   "metadata": {},
   "outputs": [
    {
     "name": "stdout",
     "output_type": "stream",
     "text": [
      "shape: (5, 10)\n",
      "┌───────────┬───────────┬───────────┬───────────┬───┬───────────┬───────────┬───────────┬──────────┐\n",
      "│ date      ┆ temperatu ┆ apparent_ ┆ precipita ┆ … ┆ sunshine_ ┆ direct_ra ┆ wind_gust ┆ weather_ │\n",
      "│ ---       ┆ re_2m     ┆ temperatu ┆ tion      ┆   ┆ duration  ┆ diation   ┆ s_10m     ┆ type     │\n",
      "│ datetime[ ┆ ---       ┆ re        ┆ ---       ┆   ┆ ---       ┆ ---       ┆ ---       ┆ ---      │\n",
      "│ μs, UTC]  ┆ f64       ┆ ---       ┆ f64       ┆   ┆ f64       ┆ f64       ┆ f64       ┆ str      │\n",
      "│           ┆           ┆ f64       ┆           ┆   ┆           ┆           ┆           ┆          │\n",
      "╞═══════════╪═══════════╪═══════════╪═══════════╪═══╪═══════════╪═══════════╪═══════════╪══════════╡\n",
      "│ 2000-02-0 ┆ -8.6315   ┆ -15.03086 ┆ 0.0       ┆ … ┆ 0.0       ┆ 0.0       ┆ 39.96     ┆ Snowy    │\n",
      "│ 2         ┆           ┆           ┆           ┆   ┆           ┆           ┆           ┆          │\n",
      "│ 04:00:00  ┆           ┆           ┆           ┆   ┆           ┆           ┆           ┆          │\n",
      "│ UTC       ┆           ┆           ┆           ┆   ┆           ┆           ┆           ┆          │\n",
      "│ 2000-02-0 ┆ -9.1315   ┆ -15.57132 ┆ 0.0       ┆ … ┆ 0.0       ┆ 0.0       ┆ 39.239998 ┆ Snowy    │\n",
      "│ 2         ┆           ┆ 1         ┆           ┆   ┆           ┆           ┆           ┆          │\n",
      "│ 05:00:00  ┆           ┆           ┆           ┆   ┆           ┆           ┆           ┆          │\n",
      "│ UTC       ┆           ┆           ┆           ┆   ┆           ┆           ┆           ┆          │\n",
      "│ 2000-02-0 ┆ -9.8315   ┆ -16.41712 ┆ 0.0       ┆ … ┆ 0.0       ┆ 0.0       ┆ 39.6      ┆ Snowy    │\n",
      "│ 2         ┆           ┆           ┆           ┆   ┆           ┆           ┆           ┆          │\n",
      "│ 06:00:00  ┆           ┆           ┆           ┆   ┆           ┆           ┆           ┆          │\n",
      "│ UTC       ┆           ┆           ┆           ┆   ┆           ┆           ┆           ┆          │\n",
      "│ 2000-02-0 ┆ -10.4815  ┆ -17.16505 ┆ 0.0       ┆ … ┆ 0.0       ┆ 0.0       ┆ 40.32     ┆ Snowy    │\n",
      "│ 2         ┆           ┆ 8         ┆           ┆   ┆           ┆           ┆           ┆          │\n",
      "│ 07:00:00  ┆           ┆           ┆           ┆   ┆           ┆           ┆           ┆          │\n",
      "│ UTC       ┆           ┆           ┆           ┆   ┆           ┆           ┆           ┆          │\n",
      "│ 2000-02-0 ┆ -11.2315  ┆ -17.91882 ┆ 0.0       ┆ … ┆ 0.0       ┆ 0.0       ┆ 39.6      ┆ Snowy    │\n",
      "│ 2         ┆           ┆ 7         ┆           ┆   ┆           ┆           ┆           ┆          │\n",
      "│ 08:00:00  ┆           ┆           ┆           ┆   ┆           ┆           ┆           ┆          │\n",
      "│ UTC       ┆           ┆           ┆           ┆   ┆           ┆           ┆           ┆          │\n",
      "└───────────┴───────────┴───────────┴───────────┴───┴───────────┴───────────┴───────────┴──────────┘\n"
     ]
    }
   ],
   "source": [
    "df_categorization = df.with_columns([\n",
    "    pl.when(pl.col(\"precipitation\") > 0.1)\n",
    "    .then(pl.lit(\"Rainy\"))\n",
    "    .when(pl.col(\"snow_depth\") > 0.05)\n",
    "    .then(pl.lit(\"Snowy\"))\n",
    "    .when(pl.col(\"temperature_2m\") > 30)\n",
    "    .then(pl.lit(\"Hot\"))\n",
    "    .otherwise(pl.lit(\"Clear\"))\n",
    "    .alias(\"weather_type\")\n",
    "])\n",
    "\n",
    "print(df_categorization.head(5))\n"
   ]
  },
  {
   "cell_type": "code",
   "execution_count": 18,
   "metadata": {},
   "outputs": [
    {
     "name": "stdout",
     "output_type": "stream",
     "text": [
      "Schema({'date': Datetime(time_unit='us', time_zone='UTC'), 'temperature_2m': Float64, 'apparent_temperature': Float64, 'precipitation': Float64, 'wind_speed_10m': Float64, 'snow_depth': Float64, 'sunshine_duration': Float64, 'direct_radiation': Float64, 'wind_gusts_10m': Float64})\n"
     ]
    }
   ],
   "source": [
    "# Check dtype of date column\n",
    "print(df.schema)"
   ]
  },
  {
   "cell_type": "code",
   "execution_count": null,
   "metadata": {},
   "outputs": [
    {
     "name": "stdout",
     "output_type": "stream",
     "text": [
      "shape: (24, 2)\n",
      "┌──────┬───────────┐\n",
      "│ hour ┆ 1         │\n",
      "│ ---  ┆ ---       │\n",
      "│ i8   ┆ f64       │\n",
      "╞══════╪═══════════╡\n",
      "│ 0    ┆ 9.271092  │\n",
      "│ 1    ┆ 8.647163  │\n",
      "│ 2    ┆ 8.160065  │\n",
      "│ 3    ┆ 7.756661  │\n",
      "│ 4    ┆ 7.408431  │\n",
      "│ …    ┆ …         │\n",
      "│ 19   ┆ 11.290796 │\n",
      "│ 20   ┆ 11.308881 │\n",
      "│ 21   ┆ 11.08486  │\n",
      "│ 22   ┆ 10.604507 │\n",
      "│ 23   ┆ 9.967414  │\n",
      "└──────┴───────────┘\n"
     ]
    },
    {
     "name": "stderr",
     "output_type": "stream",
     "text": [
      "/tmp/ipykernel_298/3157205096.py:8: DeprecationWarning: the argument `columns` for `DataFrame.pivot` is deprecated. It was renamed to `on` in version 1.0.0.\n",
      "  pivot_result = df_hourly_avg.pivot(\n"
     ]
    }
   ],
   "source": [
    "df_hourly_avg = df.with_columns([\n",
    "    pl.col(\"date\").alias(\"date_parsed\") if df.schema[\"date\"] == pl.Datetime else pl.col(\"date\").str.strptime(pl.Datetime, \"%Y-%m-%d %H:%M:%S%z\").alias(\"date_parsed\")\n",
    "]).with_columns([\n",
    "    pl.col(\"date_parsed\").dt.hour().alias(\"hour\"),\n",
    "    pl.lit(1).alias(\"myon\")\n",
    "])\n",
    "# Step 2: Pivot\n",
    "pivot_result = df_hourly_avg.pivot(\n",
    "    values=\"temperature_2m\",\n",
    "    index=\"hour\",\n",
    "    columns=\"myon\",  # This is constant\n",
    "    aggregate_function=\"mean\"\n",
    ").sort(\"hour\")\n",
    "\n",
    "print(pivot_result)\n"
   ]
  },
  {
   "cell_type": "code",
   "execution_count": 20,
   "metadata": {},
   "outputs": [],
   "source": [
    "lazy_df = (\n",
    "    pl.scan_csv(\"https://cf-courses-data.s3.us.cloud-object-storage.appdomain.cloud/cgBu1y94dmPAnw4HfZPeOg/hourly-weather-data.csv\")  # File not loaded yet\n",
    "    .filter(pl.col(\"temperature_2m\") > 25)\n",
    "    .select([\"date\", \"temperature_2m\"])\n",
    ")"
   ]
  },
  {
   "cell_type": "code",
   "execution_count": 21,
   "metadata": {},
   "outputs": [
    {
     "name": "stdout",
     "output_type": "stream",
     "text": [
      "shape: (8_043, 2)\n",
      "┌───────────────────────────┬────────────────┐\n",
      "│ date                      ┆ temperature_2m │\n",
      "│ ---                       ┆ ---            │\n",
      "│ str                       ┆ f64            │\n",
      "╞═══════════════════════════╪════════════════╡\n",
      "│ 2000-05-06 19:00:00+00:00 ┆ 25.0685        │\n",
      "│ 2000-06-10 16:00:00+00:00 ┆ 25.268501      │\n",
      "│ 2000-06-10 17:00:00+00:00 ┆ 26.118502      │\n",
      "│ 2000-06-10 18:00:00+00:00 ┆ 26.6685        │\n",
      "│ 2000-06-10 19:00:00+00:00 ┆ 27.368502      │\n",
      "│ …                         ┆ …              │\n",
      "│ 2024-08-31 20:00:00+00:00 ┆ 26.486         │\n",
      "│ 2024-08-31 21:00:00+00:00 ┆ 25.486         │\n",
      "│ 2024-09-01 17:00:00+00:00 ┆ 25.086         │\n",
      "│ 2024-09-01 18:00:00+00:00 ┆ 25.486         │\n",
      "│ 2024-09-01 19:00:00+00:00 ┆ 25.286         │\n",
      "└───────────────────────────┴────────────────┘\n"
     ]
    }
   ],
   "source": [
    "result = lazy_df.collect()  #  Runs everything, returns a real DataFrame\n",
    "print(result)"
   ]
  },
  {
   "cell_type": "code",
   "execution_count": 22,
   "metadata": {},
   "outputs": [],
   "source": [
    "import polars as pl\n",
    "\n",
    "weather_df = pl.DataFrame({\n",
    "    \"station_id\": [101, 102, 103, 104, 105],\n",
    "    \"date\": [\"2024-01-01\", \"2024-01-01\", \"2024-01-01\", \"2024-01-01\", \"2024-01-01\"],\n",
    "    \"temperature\": [25.4, 21.2, 18.9, 26.5, 19.0],\n",
    "    \"precipitation\": [0.0, 0.5, 0.0, 1.2, 0.0]\n",
    "})\n",
    "\n",
    "station_df = pl.DataFrame({\n",
    "    \"station_id\": [101, 102, 103, 106],  # Note: station 104 and 105 are missing, 106 is extra\n",
    "    \"station_name\": [\"North Point\", \"West Side\", \"East End\", \"South Base\"],\n",
    "    \"elevation\": [150, 180, 200, 250]\n",
    "})"
   ]
  },
  {
   "cell_type": "code",
   "execution_count": 23,
   "metadata": {},
   "outputs": [
    {
     "name": "stdout",
     "output_type": "stream",
     "text": [
      "shape: (3, 6)\n",
      "┌────────────┬────────────┬─────────────┬───────────────┬──────────────┬───────────┐\n",
      "│ station_id ┆ date       ┆ temperature ┆ precipitation ┆ station_name ┆ elevation │\n",
      "│ ---        ┆ ---        ┆ ---         ┆ ---           ┆ ---          ┆ ---       │\n",
      "│ i64        ┆ str        ┆ f64         ┆ f64           ┆ str          ┆ i64       │\n",
      "╞════════════╪════════════╪═════════════╪═══════════════╪══════════════╪═══════════╡\n",
      "│ 101        ┆ 2024-01-01 ┆ 25.4        ┆ 0.0           ┆ North Point  ┆ 150       │\n",
      "│ 102        ┆ 2024-01-01 ┆ 21.2        ┆ 0.5           ┆ West Side    ┆ 180       │\n",
      "│ 103        ┆ 2024-01-01 ┆ 18.9        ┆ 0.0           ┆ East End     ┆ 200       │\n",
      "└────────────┴────────────┴─────────────┴───────────────┴──────────────┴───────────┘\n",
      "shape: (5, 6)\n",
      "┌────────────┬────────────┬─────────────┬───────────────┬──────────────┬───────────┐\n",
      "│ station_id ┆ date       ┆ temperature ┆ precipitation ┆ station_name ┆ elevation │\n",
      "│ ---        ┆ ---        ┆ ---         ┆ ---           ┆ ---          ┆ ---       │\n",
      "│ i64        ┆ str        ┆ f64         ┆ f64           ┆ str          ┆ i64       │\n",
      "╞════════════╪════════════╪═════════════╪═══════════════╪══════════════╪═══════════╡\n",
      "│ 101        ┆ 2024-01-01 ┆ 25.4        ┆ 0.0           ┆ North Point  ┆ 150       │\n",
      "│ 102        ┆ 2024-01-01 ┆ 21.2        ┆ 0.5           ┆ West Side    ┆ 180       │\n",
      "│ 103        ┆ 2024-01-01 ┆ 18.9        ┆ 0.0           ┆ East End     ┆ 200       │\n",
      "│ 104        ┆ 2024-01-01 ┆ 26.5        ┆ 1.2           ┆ null         ┆ null      │\n",
      "│ 105        ┆ 2024-01-01 ┆ 19.0        ┆ 0.0           ┆ null         ┆ null      │\n",
      "└────────────┴────────────┴─────────────┴───────────────┴──────────────┴───────────┘\n",
      "shape: (6, 7)\n",
      "┌────────────┬────────────┬─────────────┬───────────────┬───────────────┬──────────────┬───────────┐\n",
      "│ station_id ┆ date       ┆ temperature ┆ precipitation ┆ station_id_ri ┆ station_name ┆ elevation │\n",
      "│ ---        ┆ ---        ┆ ---         ┆ ---           ┆ ght           ┆ ---          ┆ ---       │\n",
      "│ i64        ┆ str        ┆ f64         ┆ f64           ┆ ---           ┆ str          ┆ i64       │\n",
      "│            ┆            ┆             ┆               ┆ i64           ┆              ┆           │\n",
      "╞════════════╪════════════╪═════════════╪═══════════════╪═══════════════╪══════════════╪═══════════╡\n",
      "│ 101        ┆ 2024-01-01 ┆ 25.4        ┆ 0.0           ┆ 101           ┆ North Point  ┆ 150       │\n",
      "│ 102        ┆ 2024-01-01 ┆ 21.2        ┆ 0.5           ┆ 102           ┆ West Side    ┆ 180       │\n",
      "│ 103        ┆ 2024-01-01 ┆ 18.9        ┆ 0.0           ┆ 103           ┆ East End     ┆ 200       │\n",
      "│ 104        ┆ 2024-01-01 ┆ 26.5        ┆ 1.2           ┆ null          ┆ null         ┆ null      │\n",
      "│ 105        ┆ 2024-01-01 ┆ 19.0        ┆ 0.0           ┆ null          ┆ null         ┆ null      │\n",
      "│ null       ┆ null       ┆ null        ┆ null          ┆ 106           ┆ South Base   ┆ 250       │\n",
      "└────────────┴────────────┴─────────────┴───────────────┴───────────────┴──────────────┴───────────┘\n",
      "shape: (2, 4)\n",
      "┌────────────┬────────────┬─────────────┬───────────────┐\n",
      "│ station_id ┆ date       ┆ temperature ┆ precipitation │\n",
      "│ ---        ┆ ---        ┆ ---         ┆ ---           │\n",
      "│ i64        ┆ str        ┆ f64         ┆ f64           │\n",
      "╞════════════╪════════════╪═════════════╪═══════════════╡\n",
      "│ 104        ┆ 2024-01-01 ┆ 26.5        ┆ 1.2           │\n",
      "│ 105        ┆ 2024-01-01 ┆ 19.0        ┆ 0.0           │\n",
      "└────────────┴────────────┴─────────────┴───────────────┘\n"
     ]
    }
   ],
   "source": [
    "# # Perform inner join\n",
    "inner_join = weather_df.join(station_df, on=\"station_id\", how=\"inner\")\n",
    "\n",
    "print(inner_join)\n",
    "\n",
    "# Perform Left join\n",
    "left_join = weather_df.join(station_df, on=\"station_id\", how=\"left\")\n",
    "print(left_join)\n",
    "\n",
    "# Perform Outer join\n",
    "outer_join = weather_df.join(station_df, on=\"station_id\", how=\"full\")\n",
    "print(outer_join)\n",
    "\n",
    "# Perform Antijoin\n",
    "anti_join = weather_df.join(station_df, on=\"station_id\", how=\"anti\")\n",
    "print(anti_join)"
   ]
  },
  {
   "cell_type": "code",
   "execution_count": 24,
   "metadata": {},
   "outputs": [
    {
     "name": "stdout",
     "output_type": "stream",
     "text": [
      "shape: (4, 3)\n",
      "┌─────────────────┬──────────────┬───────────┐\n",
      "│ station_id_meta ┆ station_name ┆ elevation │\n",
      "│ ---             ┆ ---          ┆ ---       │\n",
      "│ i64             ┆ str          ┆ i64       │\n",
      "╞═════════════════╪══════════════╪═══════════╡\n",
      "│ 101             ┆ North Point  ┆ 150       │\n",
      "│ 102             ┆ West Side    ┆ 180       │\n",
      "│ 103             ┆ East End     ┆ 200       │\n",
      "│ 106             ┆ South Base   ┆ 250       │\n",
      "└─────────────────┴──────────────┴───────────┘\n"
     ]
    }
   ],
   "source": [
    "station_df = station_df.rename({\"station_id\": \"station_id_meta\"})\n",
    "print(station_df)"
   ]
  },
  {
   "cell_type": "code",
   "execution_count": 25,
   "metadata": {},
   "outputs": [
    {
     "name": "stdout",
     "output_type": "stream",
     "text": [
      "shape: (5, 7)\n",
      "┌────────────┬────────────┬─────────────┬───────────────┬───────────────┬──────────────┬───────────┐\n",
      "│ station_id ┆ date       ┆ temperature ┆ precipitation ┆ station_id_me ┆ station_name ┆ elevation │\n",
      "│ ---        ┆ ---        ┆ ---         ┆ ---           ┆ ta            ┆ ---          ┆ ---       │\n",
      "│ i64        ┆ str        ┆ f64         ┆ f64           ┆ ---           ┆ str          ┆ i64       │\n",
      "│            ┆            ┆             ┆               ┆ i64           ┆              ┆           │\n",
      "╞════════════╪════════════╪═════════════╪═══════════════╪═══════════════╪══════════════╪═══════════╡\n",
      "│ 101        ┆ 2024-01-01 ┆ 25.4        ┆ 0.0           ┆ 101           ┆ North Point  ┆ 150       │\n",
      "│ 102        ┆ 2024-01-01 ┆ 21.2        ┆ 0.5           ┆ 102           ┆ West Side    ┆ 180       │\n",
      "│ 103        ┆ 2024-01-01 ┆ 18.9        ┆ 0.0           ┆ 103           ┆ East End     ┆ 200       │\n",
      "│ 104        ┆ 2024-01-01 ┆ 26.5        ┆ 1.2           ┆ 106           ┆ South Base   ┆ 250       │\n",
      "│ 105        ┆ 2024-01-01 ┆ 19.0        ┆ 0.0           ┆ null          ┆ null         ┆ null      │\n",
      "└────────────┴────────────┴─────────────┴───────────────┴───────────────┴──────────────┴───────────┘\n"
     ]
    }
   ],
   "source": [
    "combined_df = pl.concat([weather_df, station_df], how=\"horizontal\")\n",
    "print(combined_df)"
   ]
  }
 ],
 "metadata": {
  "kernelspec": {
   "display_name": "Python 3 (ipykernel)",
   "language": "python",
   "name": "python3"
  },
  "language_info": {
   "codemirror_mode": {
    "name": "ipython",
    "version": 3
   },
   "file_extension": ".py",
   "mimetype": "text/x-python",
   "name": "python",
   "nbconvert_exporter": "python",
   "pygments_lexer": "ipython3",
   "version": "3.12.8"
  },
  "prev_pub_hash": "e11452965f60a815bc2e0da5b7d0eadf13f528d6edee901844f0b974ba6e9a2d"
 },
 "nbformat": 4,
 "nbformat_minor": 4
}
